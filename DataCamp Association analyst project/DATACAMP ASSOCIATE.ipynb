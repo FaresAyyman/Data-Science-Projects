{
 "cells": [
  {
   "cell_type": "code",
   "execution_count": 1,
   "id": "7a53424b",
   "metadata": {},
   "outputs": [],
   "source": [
    "import pandas as pd\n",
    "import seaborn as sns\n",
    "import matplotlib.pyplot as plt"
   ]
  },
  {
   "cell_type": "code",
   "execution_count": 1,
   "id": "15f0f686",
   "metadata": {},
   "outputs": [],
   "source": [
    "df = pd.read_csv(\"food_claims_2212.csv\")"
   ]
  },
  {
   "cell_type": "code",
   "execution_count": 2,
   "id": "8cc59363",
   "metadata": {},
   "outputs": [],
   "source": [
    "df.info()"
   ]
  },
  {
   "cell_type": "code",
   "execution_count": 3,
   "id": "b21b419a",
   "metadata": {},
   "outputs": [],
   "source": [
    "df.head(10)"
   ]
  },
  {
   "cell_type": "code",
   "execution_count": 4,
   "id": "1ee4ee15",
   "metadata": {},
   "outputs": [],
   "source": [
    "df['claim_id'].isnull().sum()\n",
    "\n",
    "#It does match the criteria, no actions done.\n",
    "#0 missing values\n"
   ]
  },
  {
   "cell_type": "code",
   "execution_count": 5,
   "id": "b45bf0e4",
   "metadata": {},
   "outputs": [],
   "source": [
    "df['claim_id'].nunique()"
   ]
  },
  {
   "cell_type": "code",
   "execution_count": 6,
   "id": "3e4e2364",
   "metadata": {},
   "outputs": [],
   "source": [
    "df['time_to_close'].isnull().sum()\n",
    "df[df['time_to_close'] <= 0]\n",
    "#It does match the criteria, no actions done\n",
    "#0 missing values\n"
   ]
  },
  {
   "cell_type": "code",
   "execution_count": 7,
   "id": "7b80fa80",
   "metadata": {},
   "outputs": [],
   "source": [
    "df['claim_amount'].isnull().sum()\n",
    "#It does match the criteria, no actions done\n",
    "#0 missing values"
   ]
  },
  {
   "cell_type": "code",
   "execution_count": 8,
   "id": "e0f88756",
   "metadata": {},
   "outputs": [],
   "source": [
    "df['amount_paid'].isnull().sum()\n",
    "df['amount_paid'].fillna(df['amount_paid'].median(), inplace=True)\n",
    "#Matched the Criteria\n",
    "#36 Missing values\n",
    "#Filled the NAN values by using the fillna function filling it with the median\n",
    "#The function: df['amount_paid'].fillna(df['amount_paid'].median(), inplace=True)\n"
   ]
  },
  {
   "cell_type": "code",
   "execution_count": 9,
   "id": "53c34d00",
   "metadata": {},
   "outputs": [],
   "source": [
    "df['location'].nunique()\n",
    "df['location'].isnull().sum()\n",
    "#It does match the criteria, no actions done\n",
    "#0 missing values"
   ]
  },
  {
   "cell_type": "code",
   "execution_count": 10,
   "id": "e32460fb",
   "metadata": {},
   "outputs": [],
   "source": [
    "df['individuals_on_claim'].isnull().sum()\n",
    "df[df['individuals_on_claim'] < 1]\n",
    "#It does match the criteria, no actions done\n",
    "#0 missing values"
   ]
  },
  {
   "cell_type": "code",
   "execution_count": 11,
   "id": "6a1906c1",
   "metadata": {},
   "outputs": [],
   "source": [
    "df['linked_cases'].nunique()\n",
    "df['linked_cases'].isnull().sum()\n",
    "df['linked_cases'].fillna(False , inplace=True)\n",
    "#it does match the criteria \n",
    "#26 values missing\n",
    "#using the fillna function to fill NAN with False\n",
    "#Function: df['linked_cases'].fillna(False , inplace=True)"
   ]
  },
  {
   "cell_type": "code",
   "execution_count": 12,
   "id": "9b871fe0",
   "metadata": {},
   "outputs": [],
   "source": [
    "df['cause'].unique()\n",
    "df['cause'].replace({'Meat':'meat', 'VEGETABLES':'vegetable'} , inplace = True)\n",
    "#It doesn't match the criteria since there was string error for capital to letter\n",
    "#to fix this this I used replace function\n",
    "#no null values\n",
    "#the function I used: df['cause'].replace({'Meat':'meat', 'VEGETABLES':'vegetable'} , inplace = True)"
   ]
  },
  {
   "cell_type": "code",
   "execution_count": 13,
   "id": "eb579222",
   "metadata": {},
   "outputs": [],
   "source": [
    "df['cause'].replace({'Meat':'meat', 'VEGETABLES':'vegetable'} , inplace = True)"
   ]
  },
  {
   "cell_type": "code",
   "execution_count": 14,
   "id": "39cec042",
   "metadata": {},
   "outputs": [],
   "source": [
    "df['cause'].isnull().sum()"
   ]
  },
  {
   "cell_type": "code",
   "execution_count": 15,
   "id": "70281ea1",
   "metadata": {},
   "outputs": [],
   "source": [
    "claims_on_location = df.groupby('location')['individuals_on_claim'].sum()\n"
   ]
  },
  {
   "cell_type": "code",
   "execution_count": 16,
   "id": "a57d1839",
   "metadata": {
    "scrolled": false
   },
   "outputs": [],
   "source": [
    "\n",
    "claims_on_location.plot.bar()\n",
    "plt.title('Number of Claims in Each Location')\n",
    "#plt.xlabel('Location')\n",
    "#plt.ylabel('Number of Claims')\n",
    "#plt.show()\n",
    "#RECIFE has the most claims reaching about 7000 claims\n",
    "#The observation isn't balanced across the categories since theres a huge gap between recife and the other states.'"
   ]
  },
  {
   "cell_type": "code",
   "execution_count": 17,
   "id": "bcbcf3f8",
   "metadata": {},
   "outputs": [],
   "source": [
    "df"
   ]
  },
  {
   "cell_type": "code",
   "execution_count": 18,
   "id": "4ecbc29b",
   "metadata": {},
   "outputs": [],
   "source": [
    "types = pd.DataFrame(df[['individuals_on_claim','cause','location']])"
   ]
  },
  {
   "cell_type": "code",
   "execution_count": 19,
   "id": "13ea7254",
   "metadata": {},
   "outputs": [],
   "source": [
    "types['cause'].unique()"
   ]
  },
  {
   "cell_type": "code",
   "execution_count": 20,
   "id": "73c8674f",
   "metadata": {},
   "outputs": [],
   "source": [
    "types['cause'].replace({' Meat':'Meat'},inplace=True)\n",
    "types['cause'].replace({'meat':'Meat'},inplace=True)"
   ]
  },
  {
   "cell_type": "code",
   "execution_count": 21,
   "id": "5d137663",
   "metadata": {},
   "outputs": [],
   "source": [
    "sns.barplot(x=types['location'], y=types['individuals_on_claim'], hue=types['cause'])"
   ]
  },
  {
   "cell_type": "code",
   "execution_count": 22,
   "id": "8cd8aeec",
   "metadata": {},
   "outputs": [],
   "source": [
    "test = pd.DataFrame(types.groupby('cause')[['individuals_on_claim']].sum())"
   ]
  },
  {
   "cell_type": "code",
   "execution_count": 23,
   "id": "ede20f1c",
   "metadata": {},
   "outputs": [],
   "source": [
    "test.plot.bar()\n",
    "plt.title('Number of Claims in Each Cause')\n",
    "plt.xlabel('Cause')\n",
    "plt.ylabel('Number of Claims')\n",
    "plt.show()"
   ]
  },
  {
   "cell_type": "code",
   "execution_count": 24,
   "id": "80b7e225",
   "metadata": {},
   "outputs": [],
   "source": [
    "sns.barplot(x=types['location'], y=types['individuals_on_claim'], hue=types['cause'])"
   ]
  },
  {
   "cell_type": "code",
   "execution_count": 25,
   "id": "b4ff79c9",
   "metadata": {},
   "outputs": [],
   "source": [
    "time_claim = df[['time_to_close','individuals_on_claim']]"
   ]
  },
  {
   "cell_type": "code",
   "execution_count": 26,
   "id": "e9e641f3",
   "metadata": {},
   "outputs": [],
   "source": [
    "plt.figure(figsize=(25, 16))\n",
    "plt.hist(time_claim['time_to_close'], bins=50,edgecolor='black', linewidth=1.2)\n",
    "plt.xlabel('Time to Close (days)')\n",
    "plt.ylabel('Number of Claims')\n",
    "plt.title('Distribution of Time to Close for All Claims')\n",
    "plt.show()"
   ]
  },
  {
   "cell_type": "code",
   "execution_count": 27,
   "id": "812876ff",
   "metadata": {},
   "outputs": [],
   "source": [
    "close_location = df.groupby('location')['time_to_close'].mean()"
   ]
  },
  {
   "cell_type": "code",
   "execution_count": 28,
   "id": "0991802a",
   "metadata": {},
   "outputs": [],
   "source": [
    "close_location = df.groupby('location')['time_to_close'].mean()\n",
    "close_location.plot.bar()\n",
    "plt.title('relationship between time to close and location')\n",
    "plt.xlabel('Location')\n",
    "plt.ylabel('Average Time to Close')\n",
    "plt.show()"
   ]
  },
  {
   "cell_type": "code",
   "execution_count": 29,
   "id": "1a1c1086",
   "metadata": {},
   "outputs": [],
   "source": [
    "#This distribution is uniform. time to close on locations are uniformly distributed.\n",
    "#they are roughly the same."
   ]
  }
 ],
 "metadata": {
  "kernelspec": {
   "display_name": "Python 3 (ipykernel)",
   "language": "python",
   "name": "python3"
  },
  "language_info": {
   "codemirror_mode": {
    "name": "ipython",
    "version": 3
   },
   "file_extension": ".py",
   "mimetype": "text/x-python",
   "name": "python",
   "nbconvert_exporter": "python",
   "pygments_lexer": "ipython3",
   "version": "3.9.19"
  }
 },
 "nbformat": 4,
 "nbformat_minor": 5
}
